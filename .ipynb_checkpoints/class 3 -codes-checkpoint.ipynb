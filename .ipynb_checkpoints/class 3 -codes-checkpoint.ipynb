{
 "cells": [
  {
   "cell_type": "markdown",
   "id": "070c427a-4460-4b3a-b145-b3f1bb17309c",
   "metadata": {},
   "source": [
    "# python basic part 2"
   ]
  },
  {
   "cell_type": "markdown",
   "id": "f00d4fd3-42e4-4d73-aa3d-6585550c6af9",
   "metadata": {},
   "source": [
    "# Break Statement"
   ]
  },
  {
   "cell_type": "markdown",
   "id": "fe004732-a24c-4f35-9662-83f24cc73c48",
   "metadata": {},
   "source": [
    "break ---> stop"
   ]
  },
  {
   "cell_type": "code",
   "execution_count": 1,
   "id": "50baf469-c4b5-40e2-9f76-ecd39eb5c996",
   "metadata": {},
   "outputs": [
    {
     "name": "stdout",
     "output_type": "stream",
     "text": [
      "0\n",
      "1\n",
      "2\n",
      "3\n",
      "4\n"
     ]
    }
   ],
   "source": [
    "for i in range(10):\n",
    "    if i == 5:\n",
    "        break\n",
    "    print(i)\n",
    "        "
   ]
  },
  {
   "cell_type": "code",
   "execution_count": 2,
   "id": "29b07293-4413-4985-b642-5c9d1db9069b",
   "metadata": {},
   "outputs": [
    {
     "name": "stdout",
     "output_type": "stream",
     "text": [
      "a\n",
      "b\n",
      "c\n"
     ]
    }
   ],
   "source": [
    "data = ['a','b','c','d','e']\n",
    "for i in data:\n",
    "    if i == 'd':\n",
    "        break\n",
    "    print(i)\n",
    "\n",
    "    "
   ]
  },
  {
   "cell_type": "markdown",
   "id": "dde7f517-595b-491e-a0a7-011fbf263503",
   "metadata": {},
   "source": [
    "# Continue Statement"
   ]
  },
  {
   "cell_type": "markdown",
   "id": "c7accae4-bec6-481d-8bbf-7cdd87678afb",
   "metadata": {},
   "source": [
    "continune ---> skip"
   ]
  },
  {
   "cell_type": "code",
   "execution_count": 3,
   "id": "a34b8f0e-c331-48ed-b4c3-80225f312391",
   "metadata": {},
   "outputs": [
    {
     "name": "stdout",
     "output_type": "stream",
     "text": [
      "a\n",
      "b\n",
      "c\n",
      "e\n"
     ]
    }
   ],
   "source": [
    "data = ['a','b','c','d','e']\n",
    "for i in data:\n",
    "    if i == 'd': #except 'd' it will print everything. \n",
    "        continue\n",
    "    print(i)\n"
   ]
  },
  {
   "cell_type": "code",
   "execution_count": 4,
   "id": "65a40175-20c9-42ee-96ce-241f5bf107df",
   "metadata": {},
   "outputs": [
    {
     "name": "stdout",
     "output_type": "stream",
     "text": [
      "1\n",
      "3\n",
      "5\n",
      "7\n",
      "9\n"
     ]
    }
   ],
   "source": [
    "for i in range(10):\n",
    "    if i%2 == 0:\n",
    "        continue\n",
    "    print(i)"
   ]
  },
  {
   "cell_type": "markdown",
   "id": "bc46a0ca-35d5-4474-b8bb-5068907e90ed",
   "metadata": {},
   "source": [
    "# Data structure in Python\n",
    "# -string\n",
    "# -list\n",
    "# -tuple\n",
    "# -set\n",
    "# -distionary"
   ]
  },
  {
   "cell_type": "markdown",
   "id": "c6e0e191-a098-4653-871d-265f4b0cfd91",
   "metadata": {},
   "source": [
    "list --> is a muteable(changeable),ordered(indexed available) collection of element.\n",
    "it allows duplicate values. mostly used in ML compaire to others"
   ]
  },
  {
   "cell_type": "code",
   "execution_count": 5,
   "id": "214eed67-3bff-46a0-8fb2-10e090c7ddae",
   "metadata": {},
   "outputs": [
    {
     "name": "stdout",
     "output_type": "stream",
     "text": [
      "['ai', 'ds', 'ml', 'dl', 'ds']\n"
     ]
    }
   ],
   "source": [
    "subj = ['ai','ds','ml','dl','ds']\n",
    "print(subj)\n"
   ]
  },
  {
   "cell_type": "code",
   "execution_count": 6,
   "id": "80901b7f-0539-46a2-b194-41eb40634c5c",
   "metadata": {},
   "outputs": [
    {
     "data": {
      "text/plain": [
       "list"
      ]
     },
     "execution_count": 6,
     "metadata": {},
     "output_type": "execute_result"
    }
   ],
   "source": [
    "type(subj)"
   ]
  },
  {
   "cell_type": "code",
   "execution_count": 7,
   "id": "2094c56d-c4af-48f9-8f47-2ddcce7407f0",
   "metadata": {},
   "outputs": [
    {
     "data": {
      "text/plain": [
       "('ai', 'ds')"
      ]
     },
     "execution_count": 7,
     "metadata": {},
     "output_type": "execute_result"
    }
   ],
   "source": [
    "subj[0], subj[-1]"
   ]
  },
  {
   "cell_type": "code",
   "execution_count": 8,
   "id": "2ec5c8c7-45c2-49c4-ab9f-2626d14d963c",
   "metadata": {},
   "outputs": [
    {
     "data": {
      "text/plain": [
       "['ds', 'ml', 'dl']"
      ]
     },
     "execution_count": 8,
     "metadata": {},
     "output_type": "execute_result"
    }
   ],
   "source": [
    "subj[1:4] #indexing is always n = n-1 4-1=3"
   ]
  },
  {
   "cell_type": "code",
   "execution_count": 9,
   "id": "6b5aa5c2-f9f3-415f-9535-6891f40c9911",
   "metadata": {},
   "outputs": [
    {
     "data": {
      "text/plain": [
       "['ds', 1, 2, 3, [1, 2, 3], {1, 2, 3}, True, False]"
      ]
     },
     "execution_count": 9,
     "metadata": {},
     "output_type": "execute_result"
    }
   ],
   "source": [
    "x = ['ai','ds','ml','dl','ds',1,2,3,[1,2,3],{1,2,3},True,False]\n",
    "x[4:]"
   ]
  },
  {
   "cell_type": "code",
   "execution_count": 10,
   "id": "42975cbd-0687-44d2-a07c-ef2ad72c2f28",
   "metadata": {},
   "outputs": [
    {
     "data": {
      "text/plain": [
       "['ai', 'ds', 'ml', 'dl']"
      ]
     },
     "execution_count": 10,
     "metadata": {},
     "output_type": "execute_result"
    }
   ],
   "source": [
    "x[:4]"
   ]
  },
  {
   "cell_type": "code",
   "execution_count": 11,
   "id": "0a68b548-1379-4b0d-9d60-80f7f94c596a",
   "metadata": {},
   "outputs": [
    {
     "data": {
      "text/plain": [
       "([1, 2, 3], 3)"
      ]
     },
     "execution_count": 11,
     "metadata": {},
     "output_type": "execute_result"
    }
   ],
   "source": [
    "x[8],x[8][2]"
   ]
  },
  {
   "cell_type": "code",
   "execution_count": 12,
   "id": "12f6ef63-7d32-421b-b107-2eb8b7144527",
   "metadata": {},
   "outputs": [
    {
     "data": {
      "text/plain": [
       "152"
      ]
     },
     "execution_count": 12,
     "metadata": {},
     "output_type": "execute_result"
    }
   ],
   "source": [
    "import sys \n",
    "sys.getsizeof(x) #152 biyte"
   ]
  },
  {
   "cell_type": "code",
   "execution_count": 13,
   "id": "6b4a8358-bcaf-4179-8049-3da856801af1",
   "metadata": {},
   "outputs": [
    {
     "data": {
      "text/plain": [
       "136"
      ]
     },
     "execution_count": 13,
     "metadata": {},
     "output_type": "execute_result"
    }
   ],
   "source": [
    "import sys \n",
    "sys.getsizeof(tuple(x))"
   ]
  },
  {
   "cell_type": "markdown",
   "id": "1a6c39cd-8d0e-478d-ab46-f5c3740c0954",
   "metadata": {},
   "source": [
    "# List method()"
   ]
  },
  {
   "cell_type": "code",
   "execution_count": 14,
   "id": "10bd7111-ee39-4201-8a45-c2bf74c518d0",
   "metadata": {},
   "outputs": [
    {
     "data": {
      "text/plain": [
       "['ai', 'ds', 'ml', 'dl', 'ds', 1, 2, 3, [1, 2, 3], {1, 2, 3}, True, False]"
      ]
     },
     "execution_count": 14,
     "metadata": {},
     "output_type": "execute_result"
    }
   ],
   "source": [
    "x"
   ]
  },
  {
   "cell_type": "code",
   "execution_count": 15,
   "id": "649c101a-310f-4a14-a747-1fb0a5d7d9a7",
   "metadata": {},
   "outputs": [
    {
     "data": {
      "text/plain": [
       "['ai', 'ds', 'ml', 'dl', 'ds', 1, 2, 3, [1, 2, 3], {1, 2, 3}, True, False]"
      ]
     },
     "execution_count": 15,
     "metadata": {},
     "output_type": "execute_result"
    }
   ],
   "source": [
    "x"
   ]
  },
  {
   "cell_type": "code",
   "execution_count": 16,
   "id": "f39f3b92-c41d-4729-8427-231d99f67104",
   "metadata": {},
   "outputs": [],
   "source": [
    "dept = ['ai', 'ds', 'ml', 'dl', 'ds', 1, 2, 3, [1, 2, 3], {1, 2, 3}, True, False]"
   ]
  },
  {
   "cell_type": "code",
   "execution_count": 17,
   "id": "2de1a06e-9024-45d1-b2f0-cdf725c1d734",
   "metadata": {},
   "outputs": [
    {
     "data": {
      "text/plain": [
       "['ai',\n",
       " 'ds',\n",
       " 'ml',\n",
       " 'dl',\n",
       " 'ds',\n",
       " 1,\n",
       " 2,\n",
       " 3,\n",
       " [1, 2, 3],\n",
       " {1, 2, 3},\n",
       " True,\n",
       " False,\n",
       " '10']"
      ]
     },
     "execution_count": 17,
     "metadata": {},
     "output_type": "execute_result"
    }
   ],
   "source": [
    "dept.append('10')\n",
    "#add element in list\n",
    "dept"
   ]
  },
  {
   "cell_type": "code",
   "execution_count": 18,
   "id": "f10dd664-5eb6-4a23-8c5b-d179abc95c41",
   "metadata": {},
   "outputs": [],
   "source": [
    "dept.append('Math')"
   ]
  },
  {
   "cell_type": "code",
   "execution_count": 19,
   "id": "0047c99e-4fa3-4742-83f4-d9caf8f3fefa",
   "metadata": {},
   "outputs": [
    {
     "data": {
      "text/plain": [
       "['ai',\n",
       " 'ds',\n",
       " 'ml',\n",
       " 'dl',\n",
       " 'ds',\n",
       " 1,\n",
       " 2,\n",
       " 3,\n",
       " [1, 2, 3],\n",
       " {1, 2, 3},\n",
       " True,\n",
       " False,\n",
       " '10',\n",
       " 'Math']"
      ]
     },
     "execution_count": 19,
     "metadata": {},
     "output_type": "execute_result"
    }
   ],
   "source": [
    "dept"
   ]
  },
  {
   "cell_type": "code",
   "execution_count": 20,
   "id": "48a06072-12b2-493f-8cc1-ffe1407df873",
   "metadata": {},
   "outputs": [],
   "source": [
    " dept2 =['ai', 'ds', 'ml', 'dl', 'ds', 1, 2, 3, [1, 2, 3], {1, 2, 3}, True, False]"
   ]
  },
  {
   "cell_type": "code",
   "execution_count": 21,
   "id": "0fc626fc-cefb-4339-bf4a-eb659b767a0e",
   "metadata": {},
   "outputs": [
    {
     "data": {
      "text/plain": [
       "['ai',\n",
       " 'ds',\n",
       " 'ml',\n",
       " 'dl',\n",
       " 'ds',\n",
       " 1,\n",
       " 2,\n",
       " 3,\n",
       " [1, 2, 3],\n",
       " {1, 2, 3},\n",
       " True,\n",
       " False,\n",
       " 'CS']"
      ]
     },
     "execution_count": 21,
     "metadata": {},
     "output_type": "execute_result"
    }
   ],
   "source": [
    "dept2.append('CS')\n",
    "dept2"
   ]
  },
  {
   "cell_type": "code",
   "execution_count": 22,
   "id": "4c268d5d-54e9-4884-a018-8d0caef35709",
   "metadata": {},
   "outputs": [],
   "source": [
    "dept2.insert(0,'EEE') #shift+enter --> in () and you can see the function"
   ]
  },
  {
   "cell_type": "code",
   "execution_count": 23,
   "id": "ab2c18ac-b401-4199-8a40-c88b1aa7cd1f",
   "metadata": {},
   "outputs": [
    {
     "data": {
      "text/plain": [
       "['EEE',\n",
       " 'ai',\n",
       " 'ds',\n",
       " 'ml',\n",
       " 'dl',\n",
       " 'ds',\n",
       " 1,\n",
       " 2,\n",
       " 3,\n",
       " [1, 2, 3],\n",
       " {1, 2, 3},\n",
       " True,\n",
       " False,\n",
       " 'CS']"
      ]
     },
     "execution_count": 23,
     "metadata": {},
     "output_type": "execute_result"
    }
   ],
   "source": [
    "dept2"
   ]
  },
  {
   "cell_type": "code",
   "execution_count": 24,
   "id": "eea185f0-f25f-4e80-a64c-c5453cbdc5f2",
   "metadata": {},
   "outputs": [],
   "source": [
    "dept2.remove('EEE')"
   ]
  },
  {
   "cell_type": "code",
   "execution_count": 25,
   "id": "d684bfdf-d5e3-4262-aa01-9b27124f664f",
   "metadata": {},
   "outputs": [
    {
     "data": {
      "text/plain": [
       "['ai',\n",
       " 'ds',\n",
       " 'ml',\n",
       " 'dl',\n",
       " 'ds',\n",
       " 1,\n",
       " 2,\n",
       " 3,\n",
       " [1, 2, 3],\n",
       " {1, 2, 3},\n",
       " True,\n",
       " False,\n",
       " 'CS']"
      ]
     },
     "execution_count": 25,
     "metadata": {},
     "output_type": "execute_result"
    }
   ],
   "source": [
    "dept2"
   ]
  },
  {
   "cell_type": "code",
   "execution_count": 26,
   "id": "e1c75f2f-5e68-4ff2-af94-328380d6ea3c",
   "metadata": {},
   "outputs": [
    {
     "data": {
      "text/plain": [
       "['ai', 'ds', 'ml', 'dl', 'ds', 1, 2, 3, {1, 2, 3}, True, False, 'CS']"
      ]
     },
     "execution_count": 26,
     "metadata": {},
     "output_type": "execute_result"
    }
   ],
   "source": [
    "dept2.pop(8)\n",
    "dept2"
   ]
  },
  {
   "cell_type": "code",
   "execution_count": 27,
   "id": "5b8c84ce-ea60-400a-ba59-2957c3685544",
   "metadata": {},
   "outputs": [],
   "source": [
    "del dept2[8]\n",
    "# del (delete) are also available in other data type. so using del is better"
   ]
  },
  {
   "cell_type": "code",
   "execution_count": 28,
   "id": "5ada2e64-16d1-4eb0-b089-26d6ed6d1ee7",
   "metadata": {},
   "outputs": [
    {
     "data": {
      "text/plain": [
       "['ai', 'ds', 'ml', 'dl', 'ds', 1, 2, 3, True, False, 'CS']"
      ]
     },
     "execution_count": 28,
     "metadata": {},
     "output_type": "execute_result"
    }
   ],
   "source": [
    "dept2"
   ]
  },
  {
   "cell_type": "code",
   "execution_count": 29,
   "id": "a9414dd5-040e-408e-8ed9-e72ec2480c4c",
   "metadata": {},
   "outputs": [
    {
     "data": {
      "text/plain": [
       "['ai', 'ds', 'ml', 'ds', [1, 2], {1, 2, 3}, True, 'CS']"
      ]
     },
     "execution_count": 29,
     "metadata": {},
     "output_type": "execute_result"
    }
   ],
   "source": [
    "x2 = ['ai', 'ds', 'ml', 'ds', [1, 2, 3], {1, 2, 3}, True,'CS']\n",
    "del x2[4][-1]\n",
    "x2"
   ]
  },
  {
   "cell_type": "code",
   "execution_count": 30,
   "id": "0f087302-d292-47fd-a229-6596a0f596e8",
   "metadata": {},
   "outputs": [],
   "source": [
    "x2.reverse()"
   ]
  },
  {
   "cell_type": "code",
   "execution_count": 31,
   "id": "cc103a2f-0b02-47b5-bdd5-317e61dc6015",
   "metadata": {},
   "outputs": [
    {
     "data": {
      "text/plain": [
       "['CS', True, {1, 2, 3}, [1, 2], 'ds', 'ml', 'ds', 'ai']"
      ]
     },
     "execution_count": 31,
     "metadata": {},
     "output_type": "execute_result"
    }
   ],
   "source": [
    "x2"
   ]
  },
  {
   "cell_type": "code",
   "execution_count": 32,
   "id": "d6e5f05a-8b59-4e8e-a58a-c645bf24ea03",
   "metadata": {},
   "outputs": [
    {
     "data": {
      "text/plain": [
       "['CS', True, {1, 2, 3}, [1, 2], 'ds', 'ml', 'ds', 'ai', 'ai']"
      ]
     },
     "execution_count": 32,
     "metadata": {},
     "output_type": "execute_result"
    }
   ],
   "source": [
    "x2.append('ai')\n",
    "x2"
   ]
  },
  {
   "cell_type": "code",
   "execution_count": 33,
   "id": "0428d392-2768-4da5-a35b-315472d80103",
   "metadata": {},
   "outputs": [
    {
     "data": {
      "text/plain": [
       "2"
      ]
     },
     "execution_count": 33,
     "metadata": {},
     "output_type": "execute_result"
    }
   ],
   "source": [
    "x2.count('ai')"
   ]
  },
  {
   "cell_type": "code",
   "execution_count": 34,
   "id": "c68d5053-4c17-4fb0-af0f-b0352f1f1012",
   "metadata": {},
   "outputs": [
    {
     "data": {
      "text/plain": [
       "1"
      ]
     },
     "execution_count": 34,
     "metadata": {},
     "output_type": "execute_result"
    }
   ],
   "source": [
    "x2.count('CS') "
   ]
  },
  {
   "cell_type": "code",
   "execution_count": 35,
   "id": "f9fe861f-53e5-4ae5-ad13-ea348d27c2cd",
   "metadata": {},
   "outputs": [
    {
     "data": {
      "text/plain": [
       "[12, True, {1, 2, 3}, [1, 2], 'ds', 'ml', 'ds', 'ai', 'ai']"
      ]
     },
     "execution_count": 35,
     "metadata": {},
     "output_type": "execute_result"
    }
   ],
   "source": [
    "x2[0] =12\n",
    "x2"
   ]
  },
  {
   "cell_type": "code",
   "execution_count": 36,
   "id": "90ecd2a9-8baf-46da-be7b-cf501f79b266",
   "metadata": {},
   "outputs": [],
   "source": [
    "num = [5,2,5,8,3,9,5]\n",
    "num.sort()\n",
    "#rearrange the numbers"
   ]
  },
  {
   "cell_type": "code",
   "execution_count": 37,
   "id": "7437f00b-4bee-4eb7-86ac-06963b16b1d6",
   "metadata": {},
   "outputs": [
    {
     "data": {
      "text/plain": [
       "[2, 3, 5, 5, 5, 8, 9]"
      ]
     },
     "execution_count": 37,
     "metadata": {},
     "output_type": "execute_result"
    }
   ],
   "source": [
    "num"
   ]
  },
  {
   "cell_type": "code",
   "execution_count": 38,
   "id": "cd860f8e-9199-4f88-a7d6-63bc182ab0ca",
   "metadata": {},
   "outputs": [],
   "source": [
    "#try other methods of list "
   ]
  },
  {
   "cell_type": "markdown",
   "id": "99c2231b-9870-4ee0-a884-5a0efad6319c",
   "metadata": {},
   "source": [
    "# Tuple in python"
   ]
  },
  {
   "cell_type": "markdown",
   "id": "9d26c287-8f6c-4d42-b485-b47c8881902f",
   "metadata": {},
   "source": [
    "tuple --> immuteable and ordered (indexed)"
   ]
  },
  {
   "cell_type": "code",
   "execution_count": 39,
   "id": "84b8c032-cc25-4e2a-a5f8-b4f99cea498e",
   "metadata": {},
   "outputs": [
    {
     "data": {
      "text/plain": [
       "tuple"
      ]
     },
     "execution_count": 39,
     "metadata": {},
     "output_type": "execute_result"
    }
   ],
   "source": [
    "x3 = ['CS', True, {1, 2, 3}, [1, 2], 'ds', 'ml', 'ds', 'ai', 'ai']\n",
    "x3 = tuple(x3)\n",
    "type(x3)"
   ]
  },
  {
   "cell_type": "code",
   "execution_count": 40,
   "id": "b67d763c-8896-4171-b114-324f6a0d9564",
   "metadata": {},
   "outputs": [
    {
     "data": {
      "text/plain": [
       "('CS', True, {1, 2, 3}, [1, 2], 'ds', 'ml', 'ds', 'ai', 'ai')"
      ]
     },
     "execution_count": 40,
     "metadata": {},
     "output_type": "execute_result"
    }
   ],
   "source": [
    "x3"
   ]
  },
  {
   "cell_type": "code",
   "execution_count": 41,
   "id": "05dcaff5-95ce-4afd-b5d4-08c4d26aea82",
   "metadata": {},
   "outputs": [
    {
     "data": {
      "text/plain": [
       "tuple"
      ]
     },
     "execution_count": 41,
     "metadata": {},
     "output_type": "execute_result"
    }
   ],
   "source": [
    "x4= ('CS', True, {1, 2, 3}, [1, 2], 'ds', 'ml', 'ds', 'ai', 'ai')\n",
    "type(x4)"
   ]
  },
  {
   "cell_type": "code",
   "execution_count": 42,
   "id": "b038bf3c-894e-4697-bc78-af65d0a92bd3",
   "metadata": {},
   "outputs": [
    {
     "data": {
      "text/plain": [
       "list"
      ]
     },
     "execution_count": 42,
     "metadata": {},
     "output_type": "execute_result"
    }
   ],
   "source": [
    "x5 = list(x4)\n",
    "# tuple is immuteable.that's why if we need to change to element,\n",
    "# we can simply convert it in list and change it\n",
    "\n",
    "type(x5)"
   ]
  },
  {
   "cell_type": "code",
   "execution_count": 43,
   "id": "f0298a3e-0ed6-441e-9249-6e2a0364b08c",
   "metadata": {},
   "outputs": [
    {
     "data": {
      "text/plain": [
       "['CS', True, {1, 2, 3}, [1, 2], 'ds', 'ml', 'ds', 'ai', 'ai']"
      ]
     },
     "execution_count": 43,
     "metadata": {},
     "output_type": "execute_result"
    }
   ],
   "source": [
    "x5"
   ]
  },
  {
   "cell_type": "code",
   "execution_count": 44,
   "id": "73c867d7-aac2-4bd3-b0e8-9dcb8afcfdb4",
   "metadata": {},
   "outputs": [
    {
     "data": {
      "text/plain": [
       "('CS', True, {1, 2, 3}, [1, 2], 'ds', 'ml', 'ds', 'ai', 'ai')"
      ]
     },
     "execution_count": 44,
     "metadata": {},
     "output_type": "execute_result"
    }
   ],
   "source": [
    "x5 =tuple(x5)\n",
    "#Then again we can simply convert it in list and change it\n",
    "x5"
   ]
  },
  {
   "cell_type": "code",
   "execution_count": 45,
   "id": "7f6869e4-eff2-41fa-9de1-fd285e490c7f",
   "metadata": {},
   "outputs": [
    {
     "data": {
      "text/plain": [
       "('CS', True, {1, 2, 3}, [1, 2], 'ds', 'ml', 'ds', 'ai', 'ai')"
      ]
     },
     "execution_count": 45,
     "metadata": {},
     "output_type": "execute_result"
    }
   ],
   "source": [
    "x3"
   ]
  },
  {
   "cell_type": "code",
   "execution_count": 46,
   "id": "31084884-c498-465a-acd9-1d71301c907b",
   "metadata": {},
   "outputs": [
    {
     "data": {
      "text/plain": [
       "'CS'"
      ]
     },
     "execution_count": 46,
     "metadata": {},
     "output_type": "execute_result"
    }
   ],
   "source": [
    "x3[0] #it is ordered and indexed\n",
    "# x3[0] = 10 \n",
    "#tuple is immuteable. so no element can be added. that's why we get error"
   ]
  },
  {
   "cell_type": "code",
   "execution_count": 47,
   "id": "856d2f72-2d86-45e7-9e03-e0d71c9e77b0",
   "metadata": {},
   "outputs": [
    {
     "data": {
      "text/plain": [
       "2"
      ]
     },
     "execution_count": 47,
     "metadata": {},
     "output_type": "execute_result"
    }
   ],
   "source": [
    "x3.count('ai')"
   ]
  },
  {
   "cell_type": "code",
   "execution_count": 48,
   "id": "dc3b82c4-997a-4c3b-9065-9be35b537380",
   "metadata": {},
   "outputs": [
    {
     "data": {
      "text/plain": [
       "4"
      ]
     },
     "execution_count": 48,
     "metadata": {},
     "output_type": "execute_result"
    }
   ],
   "source": [
    "x3.index('ds')\n"
   ]
  },
  {
   "cell_type": "code",
   "execution_count": 49,
   "id": "8b8ed810-43fb-4c4b-8600-c4836458c064",
   "metadata": {},
   "outputs": [
    {
     "data": {
      "text/plain": [
       "7"
      ]
     },
     "execution_count": 49,
     "metadata": {},
     "output_type": "execute_result"
    }
   ],
   "source": [
    "x3.index('ai')"
   ]
  },
  {
   "cell_type": "code",
   "execution_count": 50,
   "id": "6a6282da-64a8-431d-b557-9d5b4cde4ac7",
   "metadata": {},
   "outputs": [
    {
     "data": {
      "text/plain": [
       "('CS', True, {1, 2, 3}, [1, 2], 'ds', 'ml', 'ds', 'ai', 'ai')"
      ]
     },
     "execution_count": 50,
     "metadata": {},
     "output_type": "execute_result"
    }
   ],
   "source": [
    "x3"
   ]
  },
  {
   "cell_type": "markdown",
   "id": "e1d6bc3a-7ad0-4d01-a44b-fc0572dd3964",
   "metadata": {},
   "source": [
    "# Slicing in tuple"
   ]
  },
  {
   "cell_type": "code",
   "execution_count": 51,
   "id": "1fb356f0-ad81-4eaf-a524-03c6f5b080f3",
   "metadata": {},
   "outputs": [
    {
     "data": {
      "text/plain": [
       "(True, [1, 2])"
      ]
     },
     "execution_count": 51,
     "metadata": {},
     "output_type": "execute_result"
    }
   ],
   "source": [
    "x3[1:5:2] #start:stop:step stop=stop -1  here 1 = true and 2 step is [1,2] \n",
    "# then other 2 step is ml but our stop point is ds"
   ]
  },
  {
   "cell_type": "code",
   "execution_count": 52,
   "id": "7024b313-1ad5-44c8-a065-bbf701b32451",
   "metadata": {},
   "outputs": [
    {
     "data": {
      "text/plain": [
       "('CS', True, {1, 2, 3})"
      ]
     },
     "execution_count": 52,
     "metadata": {},
     "output_type": "execute_result"
    }
   ],
   "source": [
    "x3[0:3]"
   ]
  },
  {
   "cell_type": "code",
   "execution_count": 53,
   "id": "858f5de2-0219-4a2d-a27b-d1e983d9c0e6",
   "metadata": {},
   "outputs": [
    {
     "data": {
      "text/plain": [
       "('ds', 'ml', 'ds', 'ai', 'ai')"
      ]
     },
     "execution_count": 53,
     "metadata": {},
     "output_type": "execute_result"
    }
   ],
   "source": [
    "x3[4:]"
   ]
  },
  {
   "cell_type": "code",
   "execution_count": 54,
   "id": "6f6a1e1d-9074-4bf7-94c7-8df754f5d908",
   "metadata": {},
   "outputs": [
    {
     "data": {
      "text/plain": [
       "('CS', True, {1, 2, 3}, 'ds', 'ml', 'ds', 'ai', 'ai')"
      ]
     },
     "execution_count": 54,
     "metadata": {},
     "output_type": "execute_result"
    }
   ],
   "source": [
    "x3[0:3] + x3[4:]"
   ]
  },
  {
   "cell_type": "code",
   "execution_count": 55,
   "id": "937ec18c-d930-4696-a974-ba8e1229ba38",
   "metadata": {},
   "outputs": [
    {
     "data": {
      "text/plain": [
       "('CS', True, {1, 2, 3}, 'ds', 'ml', 'ds', 'ai', 'ai')"
      ]
     },
     "execution_count": 55,
     "metadata": {},
     "output_type": "execute_result"
    }
   ],
   "source": [
    "x6 = x3[0:3] + x3[4:]\n",
    "x6"
   ]
  },
  {
   "cell_type": "markdown",
   "id": "4255d7ea-5028-4dd0-a994-fb5b297a9bdf",
   "metadata": {},
   "source": [
    "# Sets in python"
   ]
  },
  {
   "cell_type": "markdown",
   "id": "2214024f-536a-4b1e-9ccd-b3d5de6ed7e0",
   "metadata": {},
   "source": [
    "Set ---> unordered but muteable"
   ]
  },
  {
   "cell_type": "code",
   "execution_count": null,
   "id": "ed9632f8-4730-46b5-84de-3f95ebaa36f5",
   "metadata": {},
   "outputs": [],
   "source": [
    "s1 = {1,2,3}\n",
    "s2 ={2,4,5}"
   ]
  },
  {
   "cell_type": "code",
   "execution_count": null,
   "id": "87e5b0f0-06d8-40c4-877b-8d660b9067db",
   "metadata": {},
   "outputs": [],
   "source": [
    "#s1[0] # error because it is unordered"
   ]
  },
  {
   "cell_type": "code",
   "execution_count": null,
   "id": "790fbe64-f217-45ee-ad2f-f5bfb304dd14",
   "metadata": {},
   "outputs": [],
   "source": [
    "s1.add(0)"
   ]
  },
  {
   "cell_type": "code",
   "execution_count": null,
   "id": "17dce7da-2800-4b6a-9268-5aa60819b6c2",
   "metadata": {},
   "outputs": [],
   "source": [
    "s1"
   ]
  },
  {
   "cell_type": "code",
   "execution_count": null,
   "id": "56595a0e-d1e7-4cf3-b785-896f007c22d1",
   "metadata": {},
   "outputs": [],
   "source": [
    "s3 ={1,2,2,3,3} # don't allow duplicate value\n",
    "s3"
   ]
  },
  {
   "cell_type": "code",
   "execution_count": null,
   "id": "525537f4-e28f-4fc5-aae3-3e863d243d9b",
   "metadata": {},
   "outputs": [],
   "source": [
    "s1.remove(3)\n",
    "s1"
   ]
  },
  {
   "cell_type": "code",
   "execution_count": null,
   "id": "2035bf24-2760-4b43-a288-4db6575d3cdd",
   "metadata": {},
   "outputs": [],
   "source": [
    "#s1.remove(3) #it will give ypu error because 3 don't exist now"
   ]
  },
  {
   "cell_type": "code",
   "execution_count": null,
   "id": "dea179da-9a7b-4ed1-8c6b-097c79f80bbd",
   "metadata": {},
   "outputs": [],
   "source": [
    "s1.discard(3)\n",
    "# 3 doesn't exist but it don't gave 'error' like remove()\n",
    "# using discard() is better"
   ]
  },
  {
   "cell_type": "code",
   "execution_count": null,
   "id": "4094e8e8-cb15-4be8-9ee9-4c29f2cf087f",
   "metadata": {},
   "outputs": [],
   "source": [
    "s1.add(6)\n",
    "s1"
   ]
  },
  {
   "cell_type": "code",
   "execution_count": null,
   "id": "df7bbc63-1d1e-4207-ae11-b84eb7afd03b",
   "metadata": {},
   "outputs": [],
   "source": [
    "s1.pop()"
   ]
  },
  {
   "cell_type": "code",
   "execution_count": null,
   "id": "34a4637c-6f57-4a74-9ba2-3b9afbbaa79d",
   "metadata": {},
   "outputs": [],
   "source": [
    "s4 = {0, 1, 2}"
   ]
  },
  {
   "cell_type": "code",
   "execution_count": null,
   "id": "70c1e039-0ead-48eb-8d5c-63d367d0e09d",
   "metadata": {},
   "outputs": [],
   "source": [
    "s4.pop()\n",
    "s4"
   ]
  },
  {
   "cell_type": "code",
   "execution_count": null,
   "id": "f56f62cd-5524-40ba-87ec-40c67b363930",
   "metadata": {},
   "outputs": [],
   "source": [
    "s5 = {0, 1, 2, 6}"
   ]
  },
  {
   "cell_type": "code",
   "execution_count": null,
   "id": "390a7ad3-2790-46fb-94cc-45bacdd1901a",
   "metadata": {},
   "outputs": [],
   "source": [
    "#intersection\n",
    "s4.intersection(s5)"
   ]
  },
  {
   "cell_type": "code",
   "execution_count": null,
   "id": "dd936023-066f-4714-bcdb-2af22f3dbe98",
   "metadata": {},
   "outputs": [],
   "source": [
    "#union\n",
    "s4.union(s5)"
   ]
  },
  {
   "cell_type": "code",
   "execution_count": null,
   "id": "788ecce6-3268-4b4c-ac56-29c193463c5f",
   "metadata": {},
   "outputs": [],
   "source": [
    "#union\n",
    "s4|s5"
   ]
  },
  {
   "cell_type": "code",
   "execution_count": null,
   "id": "962227c4-4b96-4d7b-b57c-4c4c62682493",
   "metadata": {},
   "outputs": [],
   "source": [
    "s4|s5\n"
   ]
  },
  {
   "cell_type": "code",
   "execution_count": null,
   "id": "a0d6d20a-b679-4a25-83ee-ae25d91330f7",
   "metadata": {},
   "outputs": [],
   "source": [
    "s6 = {0, 1, 2, 6}\n",
    "s7 ={2, 3, 4, 6}\n",
    "s6 & s7"
   ]
  },
  {
   "cell_type": "code",
   "execution_count": null,
   "id": "aefa201e-92d8-4de7-82f3-ff50cbf36637",
   "metadata": {},
   "outputs": [],
   "source": [
    "s6.difference(s7)"
   ]
  },
  {
   "cell_type": "code",
   "execution_count": null,
   "id": "297e1fa4-8a44-457c-839f-91b9484ea97e",
   "metadata": {},
   "outputs": [],
   "source": [
    "s6.symmetric_difference(s7) \n",
    "# the elements that are not commom \n",
    "# in both sides"
   ]
  },
  {
   "cell_type": "markdown",
   "id": "58039ace-f057-498c-a0c3-c6d9385583bb",
   "metadata": {},
   "source": [
    "frozen set"
   ]
  },
  {
   "cell_type": "code",
   "execution_count": null,
   "id": "99eee868-56ca-4427-b29e-ec31533b623a",
   "metadata": {},
   "outputs": [],
   "source": [
    "frozen_dept = frozenset(['ai','ds','ml'])\n",
    "frozen_dept"
   ]
  },
  {
   "cell_type": "code",
   "execution_count": null,
   "id": "3a120a02-1c15-4abc-8152-9825b2c2a91a",
   "metadata": {},
   "outputs": [],
   "source": [
    "s8 = frozenset(s7)"
   ]
  },
  {
   "cell_type": "code",
   "execution_count": null,
   "id": "082a298b-6a9d-48cb-9113-0d541c958419",
   "metadata": {},
   "outputs": [],
   "source": [
    "s8"
   ]
  },
  {
   "cell_type": "code",
   "execution_count": null,
   "id": "71916608-0fb7-43d1-a5a5-d9068625d053",
   "metadata": {},
   "outputs": [],
   "source": [
    "type(s8)"
   ]
  },
  {
   "cell_type": "markdown",
   "id": "2aedec9c-2664-418a-9751-ecfa9340eaba",
   "metadata": {},
   "source": [
    "# Dictionaries in python"
   ]
  },
  {
   "cell_type": "markdown",
   "id": "f48c8dc4-bfd2-477c-a9ec-83e6a983aea8",
   "metadata": {},
   "source": [
    "dictionaries ---> unordered collection of key-value pair\n",
    "or dic() function"
   ]
  },
  {
   "cell_type": "code",
   "execution_count": null,
   "id": "60cbd107-5691-4e71-bfd2-6bb80e77be97",
   "metadata": {},
   "outputs": [],
   "source": [
    "#creating a dictionary using curly braces\n",
    "person = {\n",
    "    'name':'sakil',\n",
    "    'age':20,\n",
    "    'city':'Munic'\n",
    "}\n",
    "person"
   ]
  },
  {
   "cell_type": "code",
   "execution_count": null,
   "id": "c98c8247-fc32-4228-b09b-2beac55cdaf6",
   "metadata": {},
   "outputs": [],
   "source": [
    "type(person)"
   ]
  },
  {
   "cell_type": "code",
   "execution_count": null,
   "id": "04911786-1517-4075-abc8-acdb17d98049",
   "metadata": {},
   "outputs": [],
   "source": [
    "#creating a dictionary using dict() function\n",
    "personX = dict(name = \"John\", age = 36, country = \"Norway\")\n",
    "personX"
   ]
  },
  {
   "cell_type": "code",
   "execution_count": null,
   "id": "01319de9-6bec-4b5d-a9ab-39a401232368",
   "metadata": {},
   "outputs": [],
   "source": [
    "person1 = {\n",
    "    'name':'sakil',\n",
    "    'age':20,\n",
    "    'city':'Munic'\n",
    "}\n",
    "person1"
   ]
  },
  {
   "cell_type": "code",
   "execution_count": null,
   "id": "ca11bf46-53d2-45bb-968e-d7bc6bccd252",
   "metadata": {},
   "outputs": [],
   "source": [
    "person1.values()"
   ]
  },
  {
   "cell_type": "code",
   "execution_count": null,
   "id": "371690bc-9f70-476d-8d9c-9e906f429e19",
   "metadata": {},
   "outputs": [],
   "source": [
    "person1.keys()"
   ]
  },
  {
   "cell_type": "code",
   "execution_count": null,
   "id": "eeca934e-8ab8-4f49-afb7-74ce3c8ba476",
   "metadata": {},
   "outputs": [],
   "source": [
    "person1.pop('city')\n",
    "person1"
   ]
  },
  {
   "cell_type": "code",
   "execution_count": null,
   "id": "208e1318-aaa7-46c3-8b18-488d04adcfa5",
   "metadata": {},
   "outputs": [],
   "source": [
    "person2 = {'name': 'sakil', 'age': 20, 'city': 'Munic', 'hobbies':'football'}\n",
    "person2"
   ]
  },
  {
   "cell_type": "code",
   "execution_count": null,
   "id": "aa9bc362-c55a-4562-8d4b-ea7a51b67639",
   "metadata": {},
   "outputs": [],
   "source": [
    "del person2['age']"
   ]
  },
  {
   "cell_type": "code",
   "execution_count": null,
   "id": "b24fd09d-2cf5-4e7c-b8e9-9457fcefd73d",
   "metadata": {},
   "outputs": [],
   "source": [
    "person2"
   ]
  },
  {
   "cell_type": "code",
   "execution_count": null,
   "id": "06c4f898-3d24-4f4b-b7d5-eddc25d04083",
   "metadata": {},
   "outputs": [],
   "source": [
    "person3 = {'name': 'sakil', 'age': 20, 'city': 'Munic', 'hobbies':'football'}\n",
    "person3"
   ]
  },
  {
   "cell_type": "code",
   "execution_count": null,
   "id": "bf4a9a32-9937-491a-b794-dd034a1f6152",
   "metadata": {},
   "outputs": [],
   "source": [
    "del person3['hobbies']"
   ]
  },
  {
   "cell_type": "code",
   "execution_count": null,
   "id": "06f8e2a5-b5fd-4418-bd8e-4d6796d74488",
   "metadata": {},
   "outputs": [],
   "source": [
    "person3"
   ]
  },
  {
   "cell_type": "code",
   "execution_count": null,
   "id": "e4d9380f-15f2-48af-ac3e-28053e435d22",
   "metadata": {},
   "outputs": [],
   "source": [
    "person3['age']"
   ]
  },
  {
   "cell_type": "code",
   "execution_count": null,
   "id": "bb8174a9-14e8-4b5f-ae08-9964ec80770a",
   "metadata": {},
   "outputs": [],
   "source": [
    "person3.get('age')"
   ]
  },
  {
   "cell_type": "code",
   "execution_count": null,
   "id": "aaa31abd-ae84-421b-8ab8-a35bffc98fe1",
   "metadata": {},
   "outputs": [],
   "source": [
    "person3['university']='FAU'\n",
    "person3"
   ]
  },
  {
   "cell_type": "code",
   "execution_count": null,
   "id": "82a9152b-d68a-4189-a2ac-003699bc9546",
   "metadata": {},
   "outputs": [],
   "source": [
    "person3.update({'university':'MUST'})\n",
    "person3"
   ]
  },
  {
   "cell_type": "markdown",
   "id": "252d28c4-9127-4f13-a4f2-13915d86245e",
   "metadata": {},
   "source": [
    "Importance of copy ***"
   ]
  },
  {
   "cell_type": "code",
   "execution_count": null,
   "id": "f798e414-feaa-4325-977b-fbbe9f59b08d",
   "metadata": {},
   "outputs": [],
   "source": [
    "x_12 = [10,20,40]"
   ]
  },
  {
   "cell_type": "code",
   "execution_count": null,
   "id": "526edb96-9364-445b-904c-74b1706f56de",
   "metadata": {},
   "outputs": [],
   "source": [
    "y1=x_12"
   ]
  },
  {
   "cell_type": "code",
   "execution_count": null,
   "id": "a5dde86b-1dc4-4121-8571-0cc995579555",
   "metadata": {},
   "outputs": [],
   "source": [
    "y1"
   ]
  },
  {
   "cell_type": "code",
   "execution_count": null,
   "id": "2ef5fbdf-c1c3-4484-ade3-62b508f7be39",
   "metadata": {},
   "outputs": [],
   "source": [
    "y1[0]=100\n",
    "y1"
   ]
  },
  {
   "cell_type": "code",
   "execution_count": null,
   "id": "9c48bf82-93ae-4cc8-805a-be49650a7a42",
   "metadata": {},
   "outputs": [],
   "source": [
    "x_12\n",
    "#here x_12 also changes but we don't want to change it.\n",
    "#we only want to change the y1"
   ]
  },
  {
   "cell_type": "code",
   "execution_count": null,
   "id": "d0ee76b7-3078-48de-b962-c41460edba83",
   "metadata": {},
   "outputs": [],
   "source": [
    "z = x_12.copy()\n",
    "z"
   ]
  },
  {
   "cell_type": "code",
   "execution_count": null,
   "id": "395b2413-c598-4f8d-bf65-55fa95063019",
   "metadata": {},
   "outputs": [],
   "source": [
    "z[0] = 45\n",
    "z"
   ]
  },
  {
   "cell_type": "code",
   "execution_count": null,
   "id": "5c5c44d1-85cb-4b76-ae7a-3b4ba3810d03",
   "metadata": {},
   "outputs": [],
   "source": [
    "x_12\n",
    "#here the value of x_12 is not changed"
   ]
  },
  {
   "cell_type": "markdown",
   "id": "ed0138dd-d5ae-400e-b7a8-eb3c250eff27",
   "metadata": {},
   "source": [
    "# Use Frozenset as Keys"
   ]
  },
  {
   "cell_type": "code",
   "execution_count": null,
   "id": "a22bd97a-dbf3-41ee-aef8-229f5881bd01",
   "metadata": {},
   "outputs": [],
   "source": [
    "fs1 = frozenset([1,2,3])\n",
    "fs2 = frozenset([4,5,6])"
   ]
  },
  {
   "cell_type": "code",
   "execution_count": null,
   "id": "e2ed50df-eb8c-454b-b2e7-7e1a1feda6e1",
   "metadata": {},
   "outputs": [],
   "source": [
    "frozen_set_dict ={\n",
    "    fs1:'Group 1',\n",
    "    fs2:'Group 2'\n",
    "}\n",
    "frozen_set_dict"
   ]
  },
  {
   "cell_type": "code",
   "execution_count": null,
   "id": "5ec55b43-71de-417f-95b5-09a1597b8ca3",
   "metadata": {},
   "outputs": [],
   "source": [
    "print(frozen_set_dict[fs1])\n",
    "print(frozen_set_dict[fs2])"
   ]
  },
  {
   "cell_type": "code",
   "execution_count": null,
   "id": "15db0d5b-5e28-4180-a337-eb4b3ce07360",
   "metadata": {},
   "outputs": [],
   "source": [
    "List comprehension: Elegant way to Create Lists "
   ]
  },
  {
   "cell_type": "markdown",
   "id": "d143ece4-c427-4022-8c33-69e5722a9ba0",
   "metadata": {},
   "source": [
    "-->way to create list in python by using loop"
   ]
  },
  {
   "cell_type": "markdown",
   "id": "9bbfbffc-16d1-43c1-bac5-f1a87f0a5141",
   "metadata": {},
   "source": [
    "[expression for item in iterable if condition]"
   ]
  },
  {
   "cell_type": "markdown",
   "id": "b1806d78-3ad4-44b3-a4d9-0026940f5294",
   "metadata": {},
   "source": [
    "# [expression for item in iterable if condition]"
   ]
  },
  {
   "cell_type": "code",
   "execution_count": null,
   "id": "16bf5e05-d261-4e0f-a3bc-0132df073023",
   "metadata": {},
   "outputs": [],
   "source": [
    "squares = [x**2 for x in range(10)]\n",
    "squares"
   ]
  },
  {
   "cell_type": "code",
   "execution_count": null,
   "id": "09dda53c-e3b9-4ece-a07e-25c5030d73ab",
   "metadata": {},
   "outputs": [],
   "source": [
    "squares1 = [x**2 for x in range(10) if x%2!=0]\n",
    "squares1"
   ]
  },
  {
   "cell_type": "code",
   "execution_count": null,
   "id": "f7681302-e31f-44a2-8ec8-397c1635fad0",
   "metadata": {},
   "outputs": [],
   "source": [
    "squares2 = [x**2 for x in range(10) if x%2==0]\n",
    "squares2"
   ]
  },
  {
   "cell_type": "markdown",
   "id": "00d47298-d0f8-4b57-84f6-4aeb4f6b43ba",
   "metadata": {},
   "source": [
    "# Tuple Comprehension"
   ]
  },
  {
   "cell_type": "markdown",
   "id": "0c4e0c75-2dfe-45a2-a791-8a7bc270db35",
   "metadata": {},
   "source": [
    " Generator"
   ]
  },
  {
   "cell_type": "markdown",
   "id": "042d9441-46a2-4a42-93c6-4dede3ddb3d1",
   "metadata": {},
   "source": [
    "--> a special type of iterable that allows to iterate over a sequence of value"
   ]
  },
  {
   "cell_type": "code",
   "execution_count": null,
   "id": "414be662-d570-43f9-a5be-b581ca0e21a9",
   "metadata": {},
   "outputs": [],
   "source": [
    "gen_exp = (x**2 for x in range(10))"
   ]
  },
  {
   "cell_type": "code",
   "execution_count": null,
   "id": "d18786d5-0d20-4ee2-9181-e80830eede31",
   "metadata": {},
   "outputs": [],
   "source": [
    "tuple_from_gen_exp = tuple(gen_exp)\n",
    "print(tuple_from_gen_exp)"
   ]
  },
  {
   "cell_type": "code",
   "execution_count": null,
   "id": "9dd842e4-522d-432c-a2dd-a3b5f3195f90",
   "metadata": {},
   "outputs": [],
   "source": [
    "li = [x**2 for x in range(10)]\n",
    "li"
   ]
  },
  {
   "cell_type": "markdown",
   "id": "f03cf6fd-6682-4703-998d-4427dc5659e1",
   "metadata": {},
   "source": [
    "memory comparison between list and tuple(generator)"
   ]
  },
  {
   "cell_type": "code",
   "execution_count": null,
   "id": "f99a539c-687f-44af-bc33-dbe0a9797325",
   "metadata": {},
   "outputs": [],
   "source": [
    "import sys\n",
    "sys.getsizeof(li)\n"
   ]
  },
  {
   "cell_type": "code",
   "execution_count": null,
   "id": "ae99db89-7883-43e4-b8e4-6f98a9e01b82",
   "metadata": {},
   "outputs": [],
   "source": [
    "sys.getsizeof(tuple_from_gen_exp)\n",
    "# sometimes for memory effencienies , we use generator"
   ]
  },
  {
   "cell_type": "markdown",
   "id": "eadec0bb-c9da-4768-b99a-4d33012ec973",
   "metadata": {},
   "source": [
    "# working with pandas"
   ]
  },
  {
   "cell_type": "code",
   "execution_count": 71,
   "id": "07302034-a45a-4712-9bd4-a3b87264ff05",
   "metadata": {},
   "outputs": [
    {
     "data": {
      "text/plain": [
       "list"
      ]
     },
     "execution_count": 71,
     "metadata": {},
     "output_type": "execute_result"
    }
   ],
   "source": [
    "user = [\n",
    "    ['sakil',25,'Munic'],\n",
    "    ['ABC',24,'Berlin'],\n",
    "    ['JKL',25,'Munic']\n",
    "]\n",
    "user\n"
   ]
  },
  {
   "cell_type": "code",
   "execution_count": 72,
   "id": "1317b3e9-75a1-4cfb-9ccf-3fdf4faf1a6a",
   "metadata": {},
   "outputs": [
    {
     "data": {
      "text/plain": [
       "list"
      ]
     },
     "execution_count": 72,
     "metadata": {},
     "output_type": "execute_result"
    }
   ],
   "source": [
    "type(user)"
   ]
  },
  {
   "cell_type": "code",
   "execution_count": 60,
   "id": "3840e9d2-0ea8-40ce-a1c3-e98e2adb938d",
   "metadata": {},
   "outputs": [
    {
     "name": "stdout",
     "output_type": "stream",
     "text": [
      "Requirement already satisfied: pandas in c:\\users\\dipda\\anaconda3\\lib\\site-packages (2.1.4)\n",
      "Requirement already satisfied: numpy<2,>=1.23.2 in c:\\users\\dipda\\anaconda3\\lib\\site-packages (from pandas) (1.26.4)\n",
      "Requirement already satisfied: python-dateutil>=2.8.2 in c:\\users\\dipda\\anaconda3\\lib\\site-packages (from pandas) (2.8.2)\n",
      "Requirement already satisfied: pytz>=2020.1 in c:\\users\\dipda\\anaconda3\\lib\\site-packages (from pandas) (2023.3.post1)\n",
      "Requirement already satisfied: tzdata>=2022.1 in c:\\users\\dipda\\anaconda3\\lib\\site-packages (from pandas) (2023.3)\n",
      "Requirement already satisfied: six>=1.5 in c:\\users\\dipda\\anaconda3\\lib\\site-packages (from python-dateutil>=2.8.2->pandas) (1.16.0)\n"
     ]
    }
   ],
   "source": [
    "!pip install pandas"
   ]
  },
  {
   "cell_type": "code",
   "execution_count": null,
   "id": "440281f5-69c2-4dd4-99ec-55b40cc774f8",
   "metadata": {},
   "outputs": [],
   "source": [
    "!pip install pandas"
   ]
  },
  {
   "cell_type": "code",
   "execution_count": 61,
   "id": "7ad272d7-9560-474b-a919-34df516d652a",
   "metadata": {},
   "outputs": [],
   "source": [
    "import pandas as pd"
   ]
  },
  {
   "cell_type": "code",
   "execution_count": 62,
   "id": "09990a32-9373-4074-be72-68ca37b7f119",
   "metadata": {},
   "outputs": [
    {
     "data": {
      "text/plain": [
       "{'name': 'sakil', 'age': 20, 'city': 'Munic', 'hobbies': 'football'}"
      ]
     },
     "execution_count": 62,
     "metadata": {},
     "output_type": "execute_result"
    }
   ],
   "source": [
    "user"
   ]
  },
  {
   "cell_type": "code",
   "execution_count": 73,
   "id": "39fb8ae3-a86e-4896-a3f1-0b67ce5d5a71",
   "metadata": {},
   "outputs": [
    {
     "data": {
      "text/html": [
       "<div>\n",
       "<style scoped>\n",
       "    .dataframe tbody tr th:only-of-type {\n",
       "        vertical-align: middle;\n",
       "    }\n",
       "\n",
       "    .dataframe tbody tr th {\n",
       "        vertical-align: top;\n",
       "    }\n",
       "\n",
       "    .dataframe thead th {\n",
       "        text-align: right;\n",
       "    }\n",
       "</style>\n",
       "<table border=\"1\" class=\"dataframe\">\n",
       "  <thead>\n",
       "    <tr style=\"text-align: right;\">\n",
       "      <th></th>\n",
       "      <th>0</th>\n",
       "      <th>1</th>\n",
       "      <th>2</th>\n",
       "    </tr>\n",
       "  </thead>\n",
       "  <tbody>\n",
       "    <tr>\n",
       "      <th>0</th>\n",
       "      <td>sakil</td>\n",
       "      <td>25</td>\n",
       "      <td>Munic</td>\n",
       "    </tr>\n",
       "    <tr>\n",
       "      <th>1</th>\n",
       "      <td>ABC</td>\n",
       "      <td>24</td>\n",
       "      <td>Berlin</td>\n",
       "    </tr>\n",
       "    <tr>\n",
       "      <th>2</th>\n",
       "      <td>JKL</td>\n",
       "      <td>25</td>\n",
       "      <td>Munic</td>\n",
       "    </tr>\n",
       "  </tbody>\n",
       "</table>\n",
       "</div>"
      ],
      "text/plain": [
       "       0   1       2\n",
       "0  sakil  25   Munic\n",
       "1    ABC  24  Berlin\n",
       "2    JKL  25   Munic"
      ]
     },
     "execution_count": 73,
     "metadata": {},
     "output_type": "execute_result"
    }
   ],
   "source": [
    "d1 = pd.DataFrame(user)\n",
    "d1"
   ]
  },
  {
   "cell_type": "code",
   "execution_count": 80,
   "id": "a0fc945e-b710-490a-98b0-294ad3776d13",
   "metadata": {},
   "outputs": [
    {
     "data": {
      "text/html": [
       "<div>\n",
       "<style scoped>\n",
       "    .dataframe tbody tr th:only-of-type {\n",
       "        vertical-align: middle;\n",
       "    }\n",
       "\n",
       "    .dataframe tbody tr th {\n",
       "        vertical-align: top;\n",
       "    }\n",
       "\n",
       "    .dataframe thead th {\n",
       "        text-align: right;\n",
       "    }\n",
       "</style>\n",
       "<table border=\"1\" class=\"dataframe\">\n",
       "  <thead>\n",
       "    <tr style=\"text-align: right;\">\n",
       "      <th></th>\n",
       "      <th>name</th>\n",
       "      <th>age</th>\n",
       "      <th>city</th>\n",
       "    </tr>\n",
       "  </thead>\n",
       "  <tbody>\n",
       "    <tr>\n",
       "      <th>i</th>\n",
       "      <td>sakil</td>\n",
       "      <td>25</td>\n",
       "      <td>Munic</td>\n",
       "    </tr>\n",
       "    <tr>\n",
       "      <th>ii</th>\n",
       "      <td>ABC</td>\n",
       "      <td>24</td>\n",
       "      <td>Berlin</td>\n",
       "    </tr>\n",
       "    <tr>\n",
       "      <th>iii</th>\n",
       "      <td>JKL</td>\n",
       "      <td>25</td>\n",
       "      <td>Munic</td>\n",
       "    </tr>\n",
       "  </tbody>\n",
       "</table>\n",
       "</div>"
      ],
      "text/plain": [
       "      name  age    city\n",
       "i    sakil   25   Munic\n",
       "ii     ABC   24  Berlin\n",
       "iii    JKL   25   Munic"
      ]
     },
     "execution_count": 80,
     "metadata": {},
     "output_type": "execute_result"
    }
   ],
   "source": [
    "d1 =pd.DataFrame(user, columns=['name','age','city'], index=['i','ii','iii'])\n",
    "d1"
   ]
  },
  {
   "cell_type": "code",
   "execution_count": 81,
   "id": "6484ee36-9eb3-4215-b837-8494b946663b",
   "metadata": {},
   "outputs": [
    {
     "data": {
      "text/plain": [
       "i       Munic\n",
       "ii     Berlin\n",
       "iii     Munic\n",
       "Name: city, dtype: object"
      ]
     },
     "execution_count": 81,
     "metadata": {},
     "output_type": "execute_result"
    }
   ],
   "source": [
    "d1.city"
   ]
  },
  {
   "cell_type": "code",
   "execution_count": 82,
   "id": "b2106e73-fa5d-4576-9c1f-ab4f4cda8951",
   "metadata": {},
   "outputs": [
    {
     "data": {
      "text/plain": [
       "i      sakil\n",
       "ii       ABC\n",
       "iii      JKL\n",
       "Name: name, dtype: object"
      ]
     },
     "execution_count": 82,
     "metadata": {},
     "output_type": "execute_result"
    }
   ],
   "source": [
    "d1.name"
   ]
  },
  {
   "cell_type": "code",
   "execution_count": 84,
   "id": "378ab4a1-662c-41e5-aa8a-3985662c379c",
   "metadata": {},
   "outputs": [
    {
     "data": {
      "text/html": [
       "<div>\n",
       "<style scoped>\n",
       "    .dataframe tbody tr th:only-of-type {\n",
       "        vertical-align: middle;\n",
       "    }\n",
       "\n",
       "    .dataframe tbody tr th {\n",
       "        vertical-align: top;\n",
       "    }\n",
       "\n",
       "    .dataframe thead th {\n",
       "        text-align: right;\n",
       "    }\n",
       "</style>\n",
       "<table border=\"1\" class=\"dataframe\">\n",
       "  <thead>\n",
       "    <tr style=\"text-align: right;\">\n",
       "      <th></th>\n",
       "      <th>city</th>\n",
       "    </tr>\n",
       "  </thead>\n",
       "  <tbody>\n",
       "    <tr>\n",
       "      <th>i</th>\n",
       "      <td>Munic</td>\n",
       "    </tr>\n",
       "    <tr>\n",
       "      <th>ii</th>\n",
       "      <td>Berlin</td>\n",
       "    </tr>\n",
       "    <tr>\n",
       "      <th>iii</th>\n",
       "      <td>Munic</td>\n",
       "    </tr>\n",
       "  </tbody>\n",
       "</table>\n",
       "</div>"
      ],
      "text/plain": [
       "       city\n",
       "i     Munic\n",
       "ii   Berlin\n",
       "iii   Munic"
      ]
     },
     "execution_count": 84,
     "metadata": {},
     "output_type": "execute_result"
    }
   ],
   "source": [
    "d1[['city']] #watching in rural format"
   ]
  },
  {
   "cell_type": "code",
   "execution_count": 85,
   "id": "37dab425-da4f-493f-a46a-9d5bedc2a753",
   "metadata": {},
   "outputs": [
    {
     "data": {
      "text/html": [
       "<div>\n",
       "<style scoped>\n",
       "    .dataframe tbody tr th:only-of-type {\n",
       "        vertical-align: middle;\n",
       "    }\n",
       "\n",
       "    .dataframe tbody tr th {\n",
       "        vertical-align: top;\n",
       "    }\n",
       "\n",
       "    .dataframe thead th {\n",
       "        text-align: right;\n",
       "    }\n",
       "</style>\n",
       "<table border=\"1\" class=\"dataframe\">\n",
       "  <thead>\n",
       "    <tr style=\"text-align: right;\">\n",
       "      <th></th>\n",
       "      <th>name</th>\n",
       "      <th>age</th>\n",
       "      <th>city</th>\n",
       "    </tr>\n",
       "  </thead>\n",
       "  <tbody>\n",
       "    <tr>\n",
       "      <th>i</th>\n",
       "      <td>sakil</td>\n",
       "      <td>25</td>\n",
       "      <td>Munic</td>\n",
       "    </tr>\n",
       "    <tr>\n",
       "      <th>ii</th>\n",
       "      <td>ABC</td>\n",
       "      <td>24</td>\n",
       "      <td>Berlin</td>\n",
       "    </tr>\n",
       "  </tbody>\n",
       "</table>\n",
       "</div>"
      ],
      "text/plain": [
       "     name  age    city\n",
       "i   sakil   25   Munic\n",
       "ii    ABC   24  Berlin"
      ]
     },
     "execution_count": 85,
     "metadata": {},
     "output_type": "execute_result"
    }
   ],
   "source": [
    "d1.head(2)"
   ]
  },
  {
   "cell_type": "code",
   "execution_count": 86,
   "id": "e53777fe-4c68-4c76-8165-f53dc04ae220",
   "metadata": {},
   "outputs": [
    {
     "data": {
      "text/html": [
       "<div>\n",
       "<style scoped>\n",
       "    .dataframe tbody tr th:only-of-type {\n",
       "        vertical-align: middle;\n",
       "    }\n",
       "\n",
       "    .dataframe tbody tr th {\n",
       "        vertical-align: top;\n",
       "    }\n",
       "\n",
       "    .dataframe thead th {\n",
       "        text-align: right;\n",
       "    }\n",
       "</style>\n",
       "<table border=\"1\" class=\"dataframe\">\n",
       "  <thead>\n",
       "    <tr style=\"text-align: right;\">\n",
       "      <th></th>\n",
       "      <th>name</th>\n",
       "      <th>age</th>\n",
       "    </tr>\n",
       "  </thead>\n",
       "  <tbody>\n",
       "    <tr>\n",
       "      <th>i</th>\n",
       "      <td>sakil</td>\n",
       "      <td>25</td>\n",
       "    </tr>\n",
       "    <tr>\n",
       "      <th>ii</th>\n",
       "      <td>ABC</td>\n",
       "      <td>24</td>\n",
       "    </tr>\n",
       "    <tr>\n",
       "      <th>iii</th>\n",
       "      <td>JKL</td>\n",
       "      <td>25</td>\n",
       "    </tr>\n",
       "  </tbody>\n",
       "</table>\n",
       "</div>"
      ],
      "text/plain": [
       "      name  age\n",
       "i    sakil   25\n",
       "ii     ABC   24\n",
       "iii    JKL   25"
      ]
     },
     "execution_count": 86,
     "metadata": {},
     "output_type": "execute_result"
    }
   ],
   "source": [
    "d1.drop(['city'],axis =1)\n",
    "#axis = 0 -->row wise \n",
    "#axis = 1 -->column wise\n",
    "#drop --> delete\n"
   ]
  },
  {
   "cell_type": "code",
   "execution_count": null,
   "id": "0de4ce46-6623-487e-8294-e7a30f4b4410",
   "metadata": {},
   "outputs": [],
   "source": []
  }
 ],
 "metadata": {
  "kernelspec": {
   "display_name": "Python 3 (ipykernel)",
   "language": "python",
   "name": "python3"
  },
  "language_info": {
   "codemirror_mode": {
    "name": "ipython",
    "version": 3
   },
   "file_extension": ".py",
   "mimetype": "text/x-python",
   "name": "python",
   "nbconvert_exporter": "python",
   "pygments_lexer": "ipython3",
   "version": "3.11.7"
  }
 },
 "nbformat": 4,
 "nbformat_minor": 5
}
